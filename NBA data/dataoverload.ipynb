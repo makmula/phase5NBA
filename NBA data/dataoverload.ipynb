{
 "cells": [
  {
   "cell_type": "code",
   "execution_count": 38,
   "metadata": {},
   "outputs": [],
   "source": [
    "import os\n",
    "from bs4 import BeautifulSoup\n",
    "from playwright.async_api import async_playwright, TimeoutError as PlaywrightTimeout\n",
    "import time"
   ]
  },
  {
   "cell_type": "code",
   "execution_count": 39,
   "metadata": {},
   "outputs": [
    {
     "name": "stdout",
     "output_type": "stream",
     "text": [
      "Requirement already satisfied: beautifulsoup4 in /Users/buckschaser/anaconda3/envs/learn-env/lib/python3.8/site-packages (4.12.2)\n",
      "Requirement already satisfied: soupsieve>1.2 in /Users/buckschaser/anaconda3/envs/learn-env/lib/python3.8/site-packages (from beautifulsoup4) (2.0.1)\n",
      "Note: you may need to restart the kernel to use updated packages.\n"
     ]
    }
   ],
   "source": [
    "%pip install beautifulsoup4"
   ]
  },
  {
   "cell_type": "code",
   "execution_count": 40,
   "metadata": {},
   "outputs": [
    {
     "name": "stdout",
     "output_type": "stream",
     "text": [
      "Requirement already satisfied: playwright in /Users/buckschaser/anaconda3/envs/learn-env/lib/python3.8/site-packages (1.18.1)\n",
      "Requirement already satisfied: websockets>=8.1 in /Users/buckschaser/anaconda3/envs/learn-env/lib/python3.8/site-packages (from playwright) (10.4)\n",
      "Requirement already satisfied: greenlet>=1.0.0 in /Users/buckschaser/anaconda3/envs/learn-env/lib/python3.8/site-packages (from playwright) (1.1.1)\n",
      "Requirement already satisfied: typing-extensions; python_version <= \"3.8\" in /Users/buckschaser/anaconda3/envs/learn-env/lib/python3.8/site-packages (from playwright) (4.7.1)\n",
      "Requirement already satisfied: pyee>=8.0.1 in /Users/buckschaser/anaconda3/envs/learn-env/lib/python3.8/site-packages (from playwright) (11.0.1)\n",
      "Note: you may need to restart the kernel to use updated packages.\n"
     ]
    }
   ],
   "source": [
    "%pip install playwright"
   ]
  },
  {
   "cell_type": "code",
   "execution_count": 41,
   "metadata": {},
   "outputs": [],
   "source": [
    "!playwright install "
   ]
  },
  {
   "cell_type": "code",
   "execution_count": 42,
   "metadata": {},
   "outputs": [
    {
     "data": {
      "text/plain": [
       "[2023]"
      ]
     },
     "execution_count": 42,
     "metadata": {},
     "output_type": "execute_result"
    }
   ],
   "source": [
    "SEASONS=list(range(2023,2024))\n",
    "SEASONS"
   ]
  },
  {
   "cell_type": "code",
   "execution_count": 43,
   "metadata": {},
   "outputs": [],
   "source": [
    "DATA_DIR= 'data2'\n",
    "STANDINGS_DIR= os.path.join(DATA_DIR, 'standings')\n",
    "SCORES_DIR= os.path.join(DATA_DIR, 'score')"
   ]
  },
  {
   "cell_type": "code",
   "execution_count": 44,
   "metadata": {},
   "outputs": [],
   "source": [
    "async def get_html(url, selector, sleep=5, retries=3):\n",
    "    html = None\n",
    "    for i in range(1, retries + 1):\n",
    "        time.sleep(sleep * i)\n",
    "        print(f\"Fetching {url}, Attempt {i}\")\n",
    "        try:\n",
    "            async with async_playwright() as p:\n",
    "                browser = await p.chromium.launch()\n",
    "                page = await browser.new_page()\n",
    "                await page.goto(url, timeout=60000)  # Increase the timeout to 60,000 ms (60 seconds)\n",
    "                print(await page.title())\n",
    "                html = await page.inner_html(selector)\n",
    "        except PlaywrightTimeout:  # Correct the exception name\n",
    "            print(f\"Timeout error on {url}\")\n",
    "        else:\n",
    "            break\n",
    "    return html"
   ]
  },
  {
   "cell_type": "code",
   "execution_count": 45,
   "metadata": {},
   "outputs": [],
   "source": [
    "async def scrape_season(season):\n",
    "    url= f'https://www.basketball-reference.com/leagues/NBA_{season}_games.html'\n",
    "    html= await get_html(url, '#content .filter')\n",
    "    \n",
    "    soup=BeautifulSoup(html)\n",
    "    links=soup.find_all('a')\n",
    "    href=[l['href']for l in links]\n",
    "    standings_pages= [f'https://www.basketball-reference.com{l}'for l in href]\n",
    "    \n",
    "    for url in standings_pages:\n",
    "        save_path= os.path.join(STANDINGS_DIR, url.split('/')[-1])\n",
    "        if os.path.exists(save_path):\n",
    "            continue\n",
    "            \n",
    "        html = await get_html(url,'#all_schedule')\n",
    "        with open (save_path, 'w+') as f:\n",
    "            f.write(html)"
   ]
  },
  {
   "cell_type": "code",
   "execution_count": 46,
   "metadata": {},
   "outputs": [],
   "source": [
    "standing_files= os.listdir(STANDINGS_DIR)"
   ]
  },
  {
   "cell_type": "code",
   "execution_count": 47,
   "metadata": {},
   "outputs": [
    {
     "data": {
      "text/plain": [
       "['NBA_2022_games-october.html',\n",
       " 'NBA_2021_games-june.html',\n",
       " 'NBA_2020_games-march.html',\n",
       " 'NBA_2020_games-september.html',\n",
       " 'NBA_2020_games-january.html',\n",
       " 'NBA_2020_games-august.html',\n",
       " 'NBA_2015_games-march.html',\n",
       " 'NBA_2023_games-may.html',\n",
       " 'NBA_2019_games-april.html',\n",
       " 'NBA_2023_games-april.html',\n",
       " 'NBA_2022_games-may.html',\n",
       " 'NBA_2014_games-june.html',\n",
       " 'NBA_2019_games-february.html',\n",
       " 'NBA_2018_games-february.html',\n",
       " 'NBA_2023_games-january.html',\n",
       " 'NBA_2016_games-april.html',\n",
       " 'NBA_2021_games-march.html',\n",
       " 'NBA_2018_games-january.html',\n",
       " 'NBA_2015_games-january.html',\n",
       " 'NBA_2015_games-june.html',\n",
       " 'NBA_2017_games-february.html',\n",
       " 'NBA_2016_games-february.html',\n",
       " 'NBA_2017_games-october.html',\n",
       " 'NBA_2015_games-february.html',\n",
       " 'NBA_2018_games-april.html',\n",
       " 'NBA_2014_games-march.html',\n",
       " 'NBA_2014_games-february.html',\n",
       " 'NBA_2020_games-december.html',\n",
       " 'NBA_2019_games-october.html',\n",
       " 'NBA_2014_games-october.html',\n",
       " 'NBA_2020_games-november.html',\n",
       " 'NBA_2021_games-may.html',\n",
       " 'NBA_2021_games-december.html',\n",
       " 'NBA_2022_games-april.html',\n",
       " 'NBA_2020_games-october-2019.html',\n",
       " 'NBA_2022_games-december.html',\n",
       " 'NBA_2023_games-november.html',\n",
       " 'NBA_2023_games-december.html',\n",
       " 'NBA_2017_games-april.html',\n",
       " 'NBA_2022_games-november.html',\n",
       " 'NBA_2016_games-january.html',\n",
       " 'NBA_2018_games-october.html',\n",
       " 'NBA_2015_games-october.html',\n",
       " 'NBA_2017_games-march.html',\n",
       " 'NBA_2021_games-february.html',\n",
       " 'NBA_2020_games-february.html',\n",
       " 'NBA_2017_games-june.html',\n",
       " 'NBA_2022_games-march.html',\n",
       " 'NBA_2023_games-february.html',\n",
       " 'NBA_2018_games-june.html',\n",
       " 'NBA_2017_games-january.html',\n",
       " 'NBA_2020_games-october-2020.html',\n",
       " 'NBA_2022_games-february.html',\n",
       " 'NBA_2015_games-may.html',\n",
       " 'NBA_2017_games-november.html',\n",
       " 'NBA_2014_games-may.html',\n",
       " 'NBA_2016_games-december.html',\n",
       " 'NBA_2021_games-july.html',\n",
       " 'NBA_2016_games-november.html',\n",
       " 'NBA_2014_games-april.html',\n",
       " 'NBA_2022_games-june.html',\n",
       " 'NBA_2018_games-march.html',\n",
       " 'NBA_2017_games-december.html',\n",
       " 'NBA_2019_games-january.html',\n",
       " 'NBA_2014_games-january.html',\n",
       " 'NBA_2014_games-december.html',\n",
       " 'NBA_2015_games-november.html',\n",
       " 'NBA_2016_games-october.html',\n",
       " 'NBA_2015_games-december.html',\n",
       " 'NBA_2021_games-april.html',\n",
       " 'NBA_2014_games-november.html',\n",
       " 'NBA_2019_games-november.html',\n",
       " 'NBA_2020_games-july.html',\n",
       " 'NBA_2018_games-december.html',\n",
       " 'NBA_2022_games-january.html',\n",
       " 'NBA_2018_games-november.html',\n",
       " 'NBA_2016_games-march.html',\n",
       " 'NBA_2019_games-december.html',\n",
       " 'NBA_2023_games-june.html',\n",
       " 'NBA_2019_games-may.html',\n",
       " 'NBA_2016_games-may.html',\n",
       " 'NBA_2023_games-march.html',\n",
       " 'NBA_2019_games-march.html',\n",
       " 'NBA_2015_games-april.html',\n",
       " 'NBA_2017_games-may.html',\n",
       " 'NBA_2016_games-june.html',\n",
       " 'NBA_2023_games-october.html',\n",
       " 'NBA_2019_games-june.html',\n",
       " 'NBA_2018_games-may.html',\n",
       " 'NBA_2013_games-october.html',\n",
       " 'NBA_2021_games-january.html']"
      ]
     },
     "execution_count": 47,
     "metadata": {},
     "output_type": "execute_result"
    }
   ],
   "source": [
    "standing_files"
   ]
  },
  {
   "cell_type": "code",
   "execution_count": 48,
   "metadata": {},
   "outputs": [],
   "source": [
    "#chat gpt\n",
    "async def scrape_game(standing_files):\n",
    "    with open(standing_files, 'r') as f:\n",
    "        html= f.read()\n",
    "\n",
    "    soup=BeautifulSoup(html)\n",
    "    links= soup.find_all('a')\n",
    "    hrefs=[l.get('href')for l in links]\n",
    "    box_scores= [l for l in hrefs if l and \"boxscore\" in l and '.html' in l]\n",
    "    box_scores= [f\"https://www.basketball-reference.com{l}\" for l in box_scores]\n",
    "\n",
    "    for url in box_scores:\n",
    "        save_path = os.path.join(SCORES_DIR, url.split('/')[-1])\n",
    "        \n",
    "        # Create the directory if it doesn't exist\n",
    "        os.makedirs(os.path.dirname(save_path), exist_ok=True)\n",
    "\n",
    "        if os.path.exists(save_path):\n",
    "            continue\n",
    "\n",
    "        html = await get_html(url, '#content')\n",
    "        if not html:\n",
    "            continue \n",
    "\n",
    "        with open(save_path, 'w+') as f:\n",
    "            f.write(html)"
   ]
  },
  {
   "cell_type": "code",
   "execution_count": 50,
   "metadata": {
    "scrolled": true
   },
   "outputs": [
    {
     "name": "stdout",
     "output_type": "stream",
     "text": [
      "Fetching https://www.basketball-reference.com/boxscores/201501050BRK.html, Attempt 1\n",
      "Mavericks vs Nets, January 5, 2015 | Basketball-Reference.com\n",
      "Fetching https://www.basketball-reference.com/boxscores/201501050CHI.html, Attempt 1\n",
      "Rockets vs Bulls, January 5, 2015 | Basketball-Reference.com\n",
      "Fetching https://www.basketball-reference.com/boxscores/201501050MEM.html, Attempt 1\n",
      "Knicks vs Grizzlies, January 5, 2015 | Basketball-Reference.com\n",
      "Fetching https://www.basketball-reference.com/boxscores/201501050MIN.html, Attempt 1\n",
      "Nuggets vs Timberwolves, January 5, 2015 | Basketball-Reference.com\n",
      "Fetching https://www.basketball-reference.com/boxscores/201501060SAS.html, Attempt 1\n",
      "Pistons vs Spurs, January 6, 2015 | Basketball-Reference.com\n",
      "Fetching https://www.basketball-reference.com/boxscores/201501070CHO.html, Attempt 1\n",
      "Pelicans vs Hornets, January 7, 2015 | Basketball-Reference.com\n",
      "Fetching https://www.basketball-reference.com/boxscores/201501070CLE.html, Attempt 1\n",
      "Rockets vs Cavaliers, January 7, 2015 | Basketball-Reference.com\n",
      "Fetching https://www.basketball-reference.com/boxscores/201501070PHI.html, Attempt 1\n",
      "Bucks vs 76ers, January 7, 2015 | Basketball-Reference.com\n",
      "Fetching https://www.basketball-reference.com/boxscores/201501070WAS.html, Attempt 1\n",
      "Knicks vs Wizards, January 7, 2015 | Basketball-Reference.com\n",
      "Fetching https://www.basketball-reference.com/boxscores/201501070ATL.html, Attempt 1\n",
      "Grizzlies vs Hawks, January 7, 2015 | Basketball-Reference.com\n",
      "Fetching https://www.basketball-reference.com/boxscores/201501070BRK.html, Attempt 1\n",
      "Celtics vs Nets, January 7, 2015 | Basketball-Reference.com\n",
      "Fetching https://www.basketball-reference.com/boxscores/201501070CHI.html, Attempt 1\n",
      "Jazz vs Bulls, January 7, 2015 | Basketball-Reference.com\n",
      "Fetching https://www.basketball-reference.com/boxscores/201501070DAL.html, Attempt 1\n",
      "Pistons vs Mavericks, January 7, 2015 | Basketball-Reference.com\n",
      "Fetching https://www.basketball-reference.com/boxscores/201501070DEN.html, Attempt 1\n",
      "Magic vs Nuggets, January 7, 2015 | Basketball-Reference.com\n",
      "Fetching https://www.basketball-reference.com/boxscores/201501070MIN.html, Attempt 1\n",
      "Timeout error on https://www.basketball-reference.com/boxscores/201501070MIN.html\n",
      "Fetching https://www.basketball-reference.com/boxscores/201501070MIN.html, Attempt 2\n",
      "Suns vs Timberwolves, January 7, 2015 | Basketball-Reference.com\n",
      "Fetching https://www.basketball-reference.com/boxscores/201501070SAC.html, Attempt 1\n",
      "Thunder vs Kings, January 7, 2015 | Basketball-Reference.com\n",
      "Fetching https://www.basketball-reference.com/boxscores/201501070GSW.html, Attempt 1\n",
      "Pacers vs Warriors, January 7, 2015 | Basketball-Reference.com\n",
      "Fetching https://www.basketball-reference.com/boxscores/201501070LAC.html, Attempt 1\n",
      "Lakers vs Clippers, January 7, 2015 | Basketball-Reference.com\n",
      "Fetching https://www.basketball-reference.com/boxscores/201501080NYK.html, Attempt 1\n",
      "Timeout error on https://www.basketball-reference.com/boxscores/201501080NYK.html\n",
      "Fetching https://www.basketball-reference.com/boxscores/201501080NYK.html, Attempt 2\n",
      "Timeout error on https://www.basketball-reference.com/boxscores/201501080NYK.html\n",
      "Fetching https://www.basketball-reference.com/boxscores/201501080NYK.html, Attempt 3\n",
      "Rockets vs Knicks, January 8, 2015 | Basketball-Reference.com\n",
      "Fetching https://www.basketball-reference.com/boxscores/201501090OKC.html, Attempt 1\n",
      "Jazz vs Thunder, January 9, 2015 | Basketball-Reference.com\n",
      "Fetching https://www.basketball-reference.com/boxscores/201501090WAS.html, Attempt 1\n",
      "Timeout error on https://www.basketball-reference.com/boxscores/201501090WAS.html\n",
      "Fetching https://www.basketball-reference.com/boxscores/201501090WAS.html, Attempt 2\n",
      "Bulls vs Wizards, January 9, 2015 | Basketball-Reference.com\n",
      "Fetching https://www.basketball-reference.com/boxscores/201501090MIL.html, Attempt 1\n",
      "Timberwolves vs Bucks, January 9, 2015 | Basketball-Reference.com\n",
      "Fetching https://www.basketball-reference.com/boxscores/201501090SAS.html, Attempt 1\n",
      "Suns vs Spurs, January 9, 2015 | Basketball-Reference.com\n",
      "Fetching https://www.basketball-reference.com/boxscores/201501090SAC.html, Attempt 1\n",
      "Nuggets vs Kings, January 9, 2015 | Basketball-Reference.com\n",
      "Fetching https://www.basketball-reference.com/boxscores/201501090GSW.html, Attempt 1\n",
      "Cavaliers vs Warriors, January 9, 2015 | Basketball-Reference.com\n",
      "Fetching https://www.basketball-reference.com/boxscores/201501090LAL.html, Attempt 1\n",
      "Magic vs Lakers, January 9, 2015 | Basketball-Reference.com\n",
      "Fetching https://www.basketball-reference.com/boxscores/201501100NYK.html, Attempt 1\n",
      "Hornets vs Knicks, January 10, 2015 | Basketball-Reference.com\n",
      "Fetching https://www.basketball-reference.com/boxscores/201501100LAC.html, Attempt 1\n",
      "Mavericks vs Clippers, January 10, 2015 | Basketball-Reference.com\n",
      "Fetching https://www.basketball-reference.com/boxscores/201501100DET.html, Attempt 1\n",
      "Nets vs Pistons, January 10, 2015 | Basketball-Reference.com\n",
      "Fetching https://www.basketball-reference.com/boxscores/201501100PHI.html, Attempt 1\n",
      "Pacers vs 76ers, January 10, 2015 | Basketball-Reference.com\n",
      "Fetching https://www.basketball-reference.com/boxscores/201501100TOR.html, Attempt 1\n",
      "Celtics vs Raptors, January 10, 2015 | Basketball-Reference.com\n",
      "Fetching https://www.basketball-reference.com/boxscores/201501100CHI.html, Attempt 1\n",
      "Bucks vs Bulls, January 10, 2015 | Basketball-Reference.com\n",
      "Fetching https://www.basketball-reference.com/boxscores/201501100HOU.html, Attempt 1\n",
      "Jazz vs Rockets, January 10, 2015 | Basketball-Reference.com\n",
      "Fetching https://www.basketball-reference.com/boxscores/201501100MIN.html, Attempt 1\n",
      "Spurs vs Timberwolves, January 10, 2015 | Basketball-Reference.com\n",
      "Fetching https://www.basketball-reference.com/boxscores/201501100POR.html, Attempt 1\n",
      "Magic vs Trail Blazers, January 10, 2015 | Basketball-Reference.com\n",
      "Fetching https://www.basketball-reference.com/boxscores/201501110ATL.html, Attempt 1\n",
      "Wizards vs Hawks, January 11, 2015 | Basketball-Reference.com\n",
      "Fetching https://www.basketball-reference.com/boxscores/201501110LAC.html, Attempt 1\n"
     ]
    },
    {
     "ename": "CancelledError",
     "evalue": "",
     "output_type": "error",
     "traceback": [
      "\u001b[0;31m---------------------------------------------------------------------------\u001b[0m",
      "\u001b[0;31mCancelledError\u001b[0m                            Traceback (most recent call last)",
      "\u001b[0;32m<ipython-input-50-137c1b0132a5>\u001b[0m in \u001b[0;36m<module>\u001b[0;34m\u001b[0m\n\u001b[1;32m      2\u001b[0m     \u001b[0mfilepath\u001b[0m\u001b[0;34m=\u001b[0m \u001b[0mos\u001b[0m\u001b[0;34m.\u001b[0m\u001b[0mpath\u001b[0m\u001b[0;34m.\u001b[0m\u001b[0mjoin\u001b[0m\u001b[0;34m(\u001b[0m\u001b[0mSTANDINGS_DIR\u001b[0m\u001b[0;34m,\u001b[0m \u001b[0mf\u001b[0m\u001b[0;34m)\u001b[0m\u001b[0;34m\u001b[0m\u001b[0;34m\u001b[0m\u001b[0m\n\u001b[1;32m      3\u001b[0m \u001b[0;34m\u001b[0m\u001b[0m\n\u001b[0;32m----> 4\u001b[0;31m     \u001b[0;32mawait\u001b[0m \u001b[0mscrape_game\u001b[0m\u001b[0;34m(\u001b[0m\u001b[0mfilepath\u001b[0m\u001b[0;34m)\u001b[0m\u001b[0;34m\u001b[0m\u001b[0;34m\u001b[0m\u001b[0m\n\u001b[0m",
      "\u001b[0;32m<ipython-input-48-63a93895ebeb>\u001b[0m in \u001b[0;36mscrape_game\u001b[0;34m(standing_files)\u001b[0m\n\u001b[1;32m     19\u001b[0m             \u001b[0;32mcontinue\u001b[0m\u001b[0;34m\u001b[0m\u001b[0;34m\u001b[0m\u001b[0m\n\u001b[1;32m     20\u001b[0m \u001b[0;34m\u001b[0m\u001b[0m\n\u001b[0;32m---> 21\u001b[0;31m         \u001b[0mhtml\u001b[0m \u001b[0;34m=\u001b[0m \u001b[0;32mawait\u001b[0m \u001b[0mget_html\u001b[0m\u001b[0;34m(\u001b[0m\u001b[0murl\u001b[0m\u001b[0;34m,\u001b[0m \u001b[0;34m'#content'\u001b[0m\u001b[0;34m)\u001b[0m\u001b[0;34m\u001b[0m\u001b[0;34m\u001b[0m\u001b[0m\n\u001b[0m\u001b[1;32m     22\u001b[0m         \u001b[0;32mif\u001b[0m \u001b[0;32mnot\u001b[0m \u001b[0mhtml\u001b[0m\u001b[0;34m:\u001b[0m\u001b[0;34m\u001b[0m\u001b[0;34m\u001b[0m\u001b[0m\n\u001b[1;32m     23\u001b[0m             \u001b[0;32mcontinue\u001b[0m\u001b[0;34m\u001b[0m\u001b[0;34m\u001b[0m\u001b[0m\n",
      "\u001b[0;32m<ipython-input-44-bfdcff2964a0>\u001b[0m in \u001b[0;36mget_html\u001b[0;34m(url, selector, sleep, retries)\u001b[0m\n\u001b[1;32m      8\u001b[0m                 \u001b[0mbrowser\u001b[0m \u001b[0;34m=\u001b[0m \u001b[0;32mawait\u001b[0m \u001b[0mp\u001b[0m\u001b[0;34m.\u001b[0m\u001b[0mchromium\u001b[0m\u001b[0;34m.\u001b[0m\u001b[0mlaunch\u001b[0m\u001b[0;34m(\u001b[0m\u001b[0;34m)\u001b[0m\u001b[0;34m\u001b[0m\u001b[0;34m\u001b[0m\u001b[0m\n\u001b[1;32m      9\u001b[0m                 \u001b[0mpage\u001b[0m \u001b[0;34m=\u001b[0m \u001b[0;32mawait\u001b[0m \u001b[0mbrowser\u001b[0m\u001b[0;34m.\u001b[0m\u001b[0mnew_page\u001b[0m\u001b[0;34m(\u001b[0m\u001b[0;34m)\u001b[0m\u001b[0;34m\u001b[0m\u001b[0;34m\u001b[0m\u001b[0m\n\u001b[0;32m---> 10\u001b[0;31m                 \u001b[0;32mawait\u001b[0m \u001b[0mpage\u001b[0m\u001b[0;34m.\u001b[0m\u001b[0mgoto\u001b[0m\u001b[0;34m(\u001b[0m\u001b[0murl\u001b[0m\u001b[0;34m,\u001b[0m \u001b[0mtimeout\u001b[0m\u001b[0;34m=\u001b[0m\u001b[0;36m60000\u001b[0m\u001b[0;34m)\u001b[0m  \u001b[0;31m# Increase the timeout to 60,000 ms (60 seconds)\u001b[0m\u001b[0;34m\u001b[0m\u001b[0;34m\u001b[0m\u001b[0m\n\u001b[0m\u001b[1;32m     11\u001b[0m                 \u001b[0mprint\u001b[0m\u001b[0;34m(\u001b[0m\u001b[0;32mawait\u001b[0m \u001b[0mpage\u001b[0m\u001b[0;34m.\u001b[0m\u001b[0mtitle\u001b[0m\u001b[0;34m(\u001b[0m\u001b[0;34m)\u001b[0m\u001b[0;34m)\u001b[0m\u001b[0;34m\u001b[0m\u001b[0;34m\u001b[0m\u001b[0m\n\u001b[1;32m     12\u001b[0m                 \u001b[0mhtml\u001b[0m \u001b[0;34m=\u001b[0m \u001b[0;32mawait\u001b[0m \u001b[0mpage\u001b[0m\u001b[0;34m.\u001b[0m\u001b[0minner_html\u001b[0m\u001b[0;34m(\u001b[0m\u001b[0mselector\u001b[0m\u001b[0;34m)\u001b[0m\u001b[0;34m\u001b[0m\u001b[0;34m\u001b[0m\u001b[0m\n",
      "\u001b[0;32m~/anaconda3/envs/learn-env/lib/python3.8/site-packages/playwright/async_api/_generated.py\u001b[0m in \u001b[0;36mgoto\u001b[0;34m(self, url, timeout, wait_until, referer)\u001b[0m\n\u001b[1;32m   7484\u001b[0m \u001b[0;34m\u001b[0m\u001b[0m\n\u001b[1;32m   7485\u001b[0m         return mapping.from_impl_nullable(\n\u001b[0;32m-> 7486\u001b[0;31m             await self._async(\n\u001b[0m\u001b[1;32m   7487\u001b[0m                 \u001b[0;34m\"page.goto\"\u001b[0m\u001b[0;34m,\u001b[0m\u001b[0;34m\u001b[0m\u001b[0;34m\u001b[0m\u001b[0m\n\u001b[1;32m   7488\u001b[0m                 self._impl_obj.goto(\n",
      "\u001b[0;32m~/anaconda3/envs/learn-env/lib/python3.8/site-packages/playwright/_impl/_page.py\u001b[0m in \u001b[0;36mgoto\u001b[0;34m(self, url, timeout, waitUntil, referer)\u001b[0m\n\u001b[1;32m    482\u001b[0m         \u001b[0mreferer\u001b[0m\u001b[0;34m:\u001b[0m \u001b[0mstr\u001b[0m \u001b[0;34m=\u001b[0m \u001b[0;32mNone\u001b[0m\u001b[0;34m,\u001b[0m\u001b[0;34m\u001b[0m\u001b[0;34m\u001b[0m\u001b[0m\n\u001b[1;32m    483\u001b[0m     ) -> Optional[Response]:\n\u001b[0;32m--> 484\u001b[0;31m         \u001b[0;32mreturn\u001b[0m \u001b[0;32mawait\u001b[0m \u001b[0mself\u001b[0m\u001b[0;34m.\u001b[0m\u001b[0m_main_frame\u001b[0m\u001b[0;34m.\u001b[0m\u001b[0mgoto\u001b[0m\u001b[0;34m(\u001b[0m\u001b[0;34m**\u001b[0m\u001b[0mlocals_to_params\u001b[0m\u001b[0;34m(\u001b[0m\u001b[0mlocals\u001b[0m\u001b[0;34m(\u001b[0m\u001b[0;34m)\u001b[0m\u001b[0;34m)\u001b[0m\u001b[0;34m)\u001b[0m\u001b[0;34m\u001b[0m\u001b[0;34m\u001b[0m\u001b[0m\n\u001b[0m\u001b[1;32m    485\u001b[0m \u001b[0;34m\u001b[0m\u001b[0m\n\u001b[1;32m    486\u001b[0m     async def reload(\n",
      "\u001b[0;32m~/anaconda3/envs/learn-env/lib/python3.8/site-packages/playwright/_impl/_frame.py\u001b[0m in \u001b[0;36mgoto\u001b[0;34m(self, url, timeout, waitUntil, referer)\u001b[0m\n\u001b[1;32m    120\u001b[0m             \u001b[0mOptional\u001b[0m\u001b[0;34m[\u001b[0m\u001b[0mResponse\u001b[0m\u001b[0;34m]\u001b[0m\u001b[0;34m,\u001b[0m\u001b[0;34m\u001b[0m\u001b[0;34m\u001b[0m\u001b[0m\n\u001b[1;32m    121\u001b[0m             from_nullable_channel(\n\u001b[0;32m--> 122\u001b[0;31m                 \u001b[0;32mawait\u001b[0m \u001b[0mself\u001b[0m\u001b[0;34m.\u001b[0m\u001b[0m_channel\u001b[0m\u001b[0;34m.\u001b[0m\u001b[0msend\u001b[0m\u001b[0;34m(\u001b[0m\u001b[0;34m\"goto\"\u001b[0m\u001b[0;34m,\u001b[0m \u001b[0mlocals_to_params\u001b[0m\u001b[0;34m(\u001b[0m\u001b[0mlocals\u001b[0m\u001b[0;34m(\u001b[0m\u001b[0;34m)\u001b[0m\u001b[0;34m)\u001b[0m\u001b[0;34m)\u001b[0m\u001b[0;34m\u001b[0m\u001b[0;34m\u001b[0m\u001b[0m\n\u001b[0m\u001b[1;32m    123\u001b[0m             ),\n\u001b[1;32m    124\u001b[0m         )\n",
      "\u001b[0;32m~/anaconda3/envs/learn-env/lib/python3.8/site-packages/playwright/_impl/_connection.py\u001b[0m in \u001b[0;36msend\u001b[0;34m(self, method, params)\u001b[0m\n\u001b[1;32m     37\u001b[0m \u001b[0;34m\u001b[0m\u001b[0m\n\u001b[1;32m     38\u001b[0m     \u001b[0;32masync\u001b[0m \u001b[0;32mdef\u001b[0m \u001b[0msend\u001b[0m\u001b[0;34m(\u001b[0m\u001b[0mself\u001b[0m\u001b[0;34m,\u001b[0m \u001b[0mmethod\u001b[0m\u001b[0;34m:\u001b[0m \u001b[0mstr\u001b[0m\u001b[0;34m,\u001b[0m \u001b[0mparams\u001b[0m\u001b[0;34m:\u001b[0m \u001b[0mDict\u001b[0m \u001b[0;34m=\u001b[0m \u001b[0;32mNone\u001b[0m\u001b[0;34m)\u001b[0m \u001b[0;34m->\u001b[0m \u001b[0mAny\u001b[0m\u001b[0;34m:\u001b[0m\u001b[0;34m\u001b[0m\u001b[0;34m\u001b[0m\u001b[0m\n\u001b[0;32m---> 39\u001b[0;31m         \u001b[0;32mreturn\u001b[0m \u001b[0;32mawait\u001b[0m \u001b[0mself\u001b[0m\u001b[0;34m.\u001b[0m\u001b[0minner_send\u001b[0m\u001b[0;34m(\u001b[0m\u001b[0mmethod\u001b[0m\u001b[0;34m,\u001b[0m \u001b[0mparams\u001b[0m\u001b[0;34m,\u001b[0m \u001b[0;32mFalse\u001b[0m\u001b[0;34m)\u001b[0m\u001b[0;34m\u001b[0m\u001b[0;34m\u001b[0m\u001b[0m\n\u001b[0m\u001b[1;32m     40\u001b[0m \u001b[0;34m\u001b[0m\u001b[0m\n\u001b[1;32m     41\u001b[0m     \u001b[0;32masync\u001b[0m \u001b[0;32mdef\u001b[0m \u001b[0msend_return_as_dict\u001b[0m\u001b[0;34m(\u001b[0m\u001b[0mself\u001b[0m\u001b[0;34m,\u001b[0m \u001b[0mmethod\u001b[0m\u001b[0;34m:\u001b[0m \u001b[0mstr\u001b[0m\u001b[0;34m,\u001b[0m \u001b[0mparams\u001b[0m\u001b[0;34m:\u001b[0m \u001b[0mDict\u001b[0m \u001b[0;34m=\u001b[0m \u001b[0;32mNone\u001b[0m\u001b[0;34m)\u001b[0m \u001b[0;34m->\u001b[0m \u001b[0mAny\u001b[0m\u001b[0;34m:\u001b[0m\u001b[0;34m\u001b[0m\u001b[0;34m\u001b[0m\u001b[0m\n",
      "\u001b[0;32m~/anaconda3/envs/learn-env/lib/python3.8/site-packages/playwright/_impl/_connection.py\u001b[0m in \u001b[0;36minner_send\u001b[0;34m(self, method, params, return_as_dict)\u001b[0m\n\u001b[1;32m     52\u001b[0m             \u001b[0mself\u001b[0m\u001b[0;34m.\u001b[0m\u001b[0m_connection\u001b[0m\u001b[0;34m.\u001b[0m\u001b[0m_error\u001b[0m \u001b[0;34m=\u001b[0m \u001b[0;32mNone\u001b[0m\u001b[0;34m\u001b[0m\u001b[0;34m\u001b[0m\u001b[0m\n\u001b[1;32m     53\u001b[0m             \u001b[0;32mraise\u001b[0m \u001b[0merror\u001b[0m\u001b[0;34m\u001b[0m\u001b[0;34m\u001b[0m\u001b[0m\n\u001b[0;32m---> 54\u001b[0;31m         done, _ = await asyncio.wait(\n\u001b[0m\u001b[1;32m     55\u001b[0m             {\n\u001b[1;32m     56\u001b[0m                 \u001b[0mself\u001b[0m\u001b[0;34m.\u001b[0m\u001b[0m_connection\u001b[0m\u001b[0;34m.\u001b[0m\u001b[0m_transport\u001b[0m\u001b[0;34m.\u001b[0m\u001b[0mon_error_future\u001b[0m\u001b[0;34m,\u001b[0m\u001b[0;34m\u001b[0m\u001b[0;34m\u001b[0m\u001b[0m\n",
      "\u001b[0;32m~/anaconda3/envs/learn-env/lib/python3.8/asyncio/tasks.py\u001b[0m in \u001b[0;36mwait\u001b[0;34m(fs, loop, timeout, return_when)\u001b[0m\n\u001b[1;32m    424\u001b[0m     \u001b[0mfs\u001b[0m \u001b[0;34m=\u001b[0m \u001b[0;34m{\u001b[0m\u001b[0mensure_future\u001b[0m\u001b[0;34m(\u001b[0m\u001b[0mf\u001b[0m\u001b[0;34m,\u001b[0m \u001b[0mloop\u001b[0m\u001b[0;34m=\u001b[0m\u001b[0mloop\u001b[0m\u001b[0;34m)\u001b[0m \u001b[0;32mfor\u001b[0m \u001b[0mf\u001b[0m \u001b[0;32min\u001b[0m \u001b[0mset\u001b[0m\u001b[0;34m(\u001b[0m\u001b[0mfs\u001b[0m\u001b[0;34m)\u001b[0m\u001b[0;34m}\u001b[0m\u001b[0;34m\u001b[0m\u001b[0;34m\u001b[0m\u001b[0m\n\u001b[1;32m    425\u001b[0m \u001b[0;34m\u001b[0m\u001b[0m\n\u001b[0;32m--> 426\u001b[0;31m     \u001b[0;32mreturn\u001b[0m \u001b[0;32mawait\u001b[0m \u001b[0m_wait\u001b[0m\u001b[0;34m(\u001b[0m\u001b[0mfs\u001b[0m\u001b[0;34m,\u001b[0m \u001b[0mtimeout\u001b[0m\u001b[0;34m,\u001b[0m \u001b[0mreturn_when\u001b[0m\u001b[0;34m,\u001b[0m \u001b[0mloop\u001b[0m\u001b[0;34m)\u001b[0m\u001b[0;34m\u001b[0m\u001b[0;34m\u001b[0m\u001b[0m\n\u001b[0m\u001b[1;32m    427\u001b[0m \u001b[0;34m\u001b[0m\u001b[0m\n\u001b[1;32m    428\u001b[0m \u001b[0;34m\u001b[0m\u001b[0m\n",
      "\u001b[0;32m~/anaconda3/envs/learn-env/lib/python3.8/asyncio/tasks.py\u001b[0m in \u001b[0;36m_wait\u001b[0;34m(fs, timeout, return_when, loop)\u001b[0m\n\u001b[1;32m    521\u001b[0m \u001b[0;34m\u001b[0m\u001b[0m\n\u001b[1;32m    522\u001b[0m     \u001b[0;32mtry\u001b[0m\u001b[0;34m:\u001b[0m\u001b[0;34m\u001b[0m\u001b[0;34m\u001b[0m\u001b[0m\n\u001b[0;32m--> 523\u001b[0;31m         \u001b[0;32mawait\u001b[0m \u001b[0mwaiter\u001b[0m\u001b[0;34m\u001b[0m\u001b[0;34m\u001b[0m\u001b[0m\n\u001b[0m\u001b[1;32m    524\u001b[0m     \u001b[0;32mfinally\u001b[0m\u001b[0;34m:\u001b[0m\u001b[0;34m\u001b[0m\u001b[0;34m\u001b[0m\u001b[0m\n\u001b[1;32m    525\u001b[0m         \u001b[0;32mif\u001b[0m \u001b[0mtimeout_handle\u001b[0m \u001b[0;32mis\u001b[0m \u001b[0;32mnot\u001b[0m \u001b[0;32mNone\u001b[0m\u001b[0;34m:\u001b[0m\u001b[0;34m\u001b[0m\u001b[0;34m\u001b[0m\u001b[0m\n",
      "\u001b[0;31mCancelledError\u001b[0m: "
     ]
    }
   ],
   "source": [
    "for f in standing_files:\n",
    "    filepath= os.path.join(STANDINGS_DIR, f)\n",
    "    \n",
    "    await scrape_game(filepath)"
   ]
  },
  {
   "cell_type": "code",
   "execution_count": 31,
   "metadata": {},
   "outputs": [
    {
     "name": "stderr",
     "output_type": "stream",
     "text": [
      "<>:1: SyntaxWarning: \"is\" with a literal. Did you mean \"==\"?\n",
      "<>:1: SyntaxWarning: \"is\" with a literal. Did you mean \"==\"?\n",
      "<ipython-input-31-e0ef050f741e>:1: SyntaxWarning: \"is\" with a literal. Did you mean \"==\"?\n",
      "  standing_files= [s for s in standing_files if '.html' is s]\n"
     ]
    }
   ],
   "source": [
    "standing_files= [s for s in standing_files if '.html' is s]"
   ]
  },
  {
   "cell_type": "code",
   "execution_count": 33,
   "metadata": {},
   "outputs": [
    {
     "data": {
      "text/plain": [
       "[]"
      ]
     },
     "execution_count": 33,
     "metadata": {},
     "output_type": "execute_result"
    }
   ],
   "source": [
    "standing_files = [s for s in standing_files if '.html' == s]\n",
    "standing_files"
   ]
  },
  {
   "cell_type": "code",
   "execution_count": null,
   "metadata": {},
   "outputs": [],
   "source": []
  }
 ],
 "metadata": {
  "kernelspec": {
   "display_name": "Python 3",
   "language": "python",
   "name": "python3"
  },
  "language_info": {
   "codemirror_mode": {
    "name": "ipython",
    "version": 3
   },
   "file_extension": ".py",
   "mimetype": "text/x-python",
   "name": "python",
   "nbconvert_exporter": "python",
   "pygments_lexer": "ipython3",
   "version": "3.8.5"
  }
 },
 "nbformat": 4,
 "nbformat_minor": 4
}
